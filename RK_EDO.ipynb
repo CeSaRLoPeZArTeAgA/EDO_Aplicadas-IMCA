{
  "nbformat": 4,
  "nbformat_minor": 0,
  "metadata": {
    "colab": {
      "provenance": [],
      "authorship_tag": "ABX9TyNYJUjkqdIvmboawHHnAal7",
      "include_colab_link": true
    },
    "kernelspec": {
      "name": "python3",
      "display_name": "Python 3"
    },
    "language_info": {
      "name": "python"
    }
  },
  "cells": [
    {
      "cell_type": "markdown",
      "metadata": {
        "id": "view-in-github",
        "colab_type": "text"
      },
      "source": [
        "<a href=\"https://colab.research.google.com/github/CeSaRLoPeZArTeAgA/EDO_Aplicadas-IMCA/blob/main/RK_EDO.ipynb\" target=\"_parent\"><img src=\"https://colab.research.google.com/assets/colab-badge.svg\" alt=\"Open In Colab\"/></a>"
      ]
    },
    {
      "cell_type": "markdown",
      "source": [],
      "metadata": {
        "id": "GoPhSKFOpRM_"
      }
    },
    {
      "cell_type": "code",
      "execution_count": null,
      "metadata": {
        "id": "SaXQvZaXnDZm"
      },
      "outputs": [],
      "source": [
        "#RUNGE KUTTA ORDEN 4 - EDO\n",
        "import numpy as np\n",
        "import matplotlib.pyplot as plt\n",
        "import pandas as pd\n",
        "#definicion de la funcion f\n",
        "def f(t,y):\n",
        "  return y-t**2+1\n",
        "#Metodo de RK\n",
        "def RK4(a,b,y0,f,N):\n",
        "  \"\"\"\n",
        "  Implementacion metodo de RK4\n",
        "  a--Inicio Intervalo\n",
        "  b--Fin de Intervalo\n",
        "  y0--Aproximacion Inicial\n",
        "  f-funcion\n",
        "  N--Pasos\n",
        "  Salida\n",
        "  w--aproximacion final\n",
        "  \"\"\"\n",
        "  h=(b-a)/N\n",
        "  t=a\n",
        "  w=y0\n",
        "  Y,T=[],[]\n",
        "  T+=[a]\n",
        "  Y+=[w]\n",
        "  for i in range(1,N+1):\n",
        "    k1=h*f(t,w)\n",
        "    k2=h*f(t+h/2,w+k1/2)\n",
        "    k3=h*f(t+h/2,w+k2/2)\n",
        "    k4=h*f(t+h,w+k3)\n",
        "    w=w+(k1+2*k2+2*k3+k4)/6\n",
        "    Y+=[w]\n",
        "    t=a+i*h\n",
        "    T+=[t]\n",
        "  return T,Y"
      ]
    },
    {
      "cell_type": "code",
      "source": [
        "# Definicion de la funcion solucion Y\n",
        "def ff(T):\n",
        "  y_real=[]\n",
        "  for t in T:\n",
        "    y_real+=[(t+1)**2-0.5*np.exp(t)]\n",
        "  return y_real"
      ],
      "metadata": {
        "id": "81RArAd0oRTr"
      },
      "execution_count": null,
      "outputs": []
    },
    {
      "cell_type": "code",
      "source": [
        "#Euler para h=0.5\n",
        "tr,yr1=RK4(0,2,0.5,f,10)\n",
        "yv=ff(tr)\n",
        "datos={'t':tr,'w_i':yr1,'y_i':yv,'Er': [z / q for z,q in zip([x-y for x,y in zip(yv,yr1)],yv)]}\n",
        "df1=pd.DataFrame(datos)\n",
        "print(df1)\n",
        "\n",
        "plt.plot(tr,yr1)\n",
        "plt.plot(tr,yv)\n",
        "plt.grid(True)\n",
        "plt.xlabel('t')\n",
        "plt.ylabel('y')\n",
        "plt.title('Metodo Runge Kutta Orden 4 - h')\n",
        "plt.legend(['RK4 - h','Function Real'])\n",
        "plt.show()"
      ],
      "metadata": {
        "id": "t8hPy6zyoVND"
      },
      "execution_count": null,
      "outputs": []
    }
  ]
}