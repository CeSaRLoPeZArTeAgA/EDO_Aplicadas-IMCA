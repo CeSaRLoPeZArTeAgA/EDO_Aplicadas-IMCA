{
  "nbformat": 4,
  "nbformat_minor": 0,
  "metadata": {
    "colab": {
      "provenance": [],
      "authorship_tag": "ABX9TyPbFvfFr8XYggqbmIRMIoM5",
      "include_colab_link": true
    },
    "kernelspec": {
      "name": "python3",
      "display_name": "Python 3"
    },
    "language_info": {
      "name": "python"
    }
  },
  "cells": [
    {
      "cell_type": "markdown",
      "metadata": {
        "id": "view-in-github",
        "colab_type": "text"
      },
      "source": [
        "<a href=\"https://colab.research.google.com/github/CeSaRLoPeZArTeAgA/EDO_Aplicadas-IMCA/blob/main/RK_EDO.ipynb\" target=\"_parent\"><img src=\"https://colab.research.google.com/assets/colab-badge.svg\" alt=\"Open In Colab\"/></a>"
      ]
    },
    {
      "cell_type": "markdown",
      "source": [
        "# MAESTRIA DE MODELIZACION MATEMATICA Y COMPUTACIONAL\n",
        "---\n",
        "![IMCA.jpg](data:image/jpeg;base64,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)\n",
        "\n",
        "\n",
        "---\n",
        "\n",
        "\n",
        "# CLASE: Runge Kutta de orden 4 para EDO"
      ],
      "metadata": {
        "id": "GoPhSKFOpRM_"
      }
    },
    {
      "cell_type": "code",
      "execution_count": null,
      "metadata": {
        "id": "SaXQvZaXnDZm"
      },
      "outputs": [],
      "source": [
        "#RUNGE KUTTA ORDEN 4 - EDO\n",
        "import numpy as np\n",
        "import matplotlib.pyplot as plt\n",
        "import pandas as pd\n",
        "#definicion de la funcion f\n",
        "def f(t,y):\n",
        "  return y-t**2+1\n",
        "#Metodo de RK\n",
        "def RK4(a,b,y0,f,N):\n",
        "  \"\"\"\n",
        "  Implementacion metodo de RK4\n",
        "  a--Inicio Intervalo\n",
        "  b--Fin de Intervalo\n",
        "  y0--Aproximacion Inicial\n",
        "  f-funcion\n",
        "  N--Pasos\n",
        "  Salida\n",
        "  w--aproximacion final\n",
        "  \"\"\"\n",
        "  h=(b-a)/N\n",
        "  t=a\n",
        "  w=y0\n",
        "  Y,T=[],[]\n",
        "  T+=[a]\n",
        "  Y+=[w]\n",
        "  for i in range(1,N+1):\n",
        "    k1=h*f(t,w)\n",
        "    k2=h*f(t+h/2,w+k1/2)\n",
        "    k3=h*f(t+h/2,w+k2/2)\n",
        "    k4=h*f(t+h,w+k3)\n",
        "    w=w+(k1+2*k2+2*k3+k4)/6\n",
        "    Y+=[w]\n",
        "    t=a+i*h\n",
        "    T+=[t]\n",
        "  return T,Y"
      ]
    },
    {
      "cell_type": "code",
      "source": [
        "# Definicion de la funcion solucion Y\n",
        "def ff(T):\n",
        "  y_real=[]\n",
        "  for t in T:\n",
        "    y_real+=[(t+1)**2-0.5*np.exp(t)]\n",
        "  return y_real"
      ],
      "metadata": {
        "id": "81RArAd0oRTr"
      },
      "execution_count": null,
      "outputs": []
    },
    {
      "cell_type": "code",
      "source": [
        "#Euler para h=0.5\n",
        "tr,yr1=RK4(0,2,0.5,f,10)\n",
        "yv=ff(tr)\n",
        "datos={'t':tr,'w_i':yr1,'y_i':yv,'Er': [z / q for z,q in zip([x-y for x,y in zip(yv,yr1)],yv)]}\n",
        "df1=pd.DataFrame(datos)\n",
        "print(df1)\n",
        "\n",
        "plt.plot(tr,yr1)\n",
        "plt.plot(tr,yv)\n",
        "plt.grid(True)\n",
        "plt.xlabel('t')\n",
        "plt.ylabel('y')\n",
        "plt.title('Metodo Runge Kutta Orden 4 - h')\n",
        "plt.legend(['RK4 - h','Function Real'])\n",
        "plt.show()"
      ],
      "metadata": {
        "id": "t8hPy6zyoVND"
      },
      "execution_count": null,
      "outputs": []
    }
  ]
}