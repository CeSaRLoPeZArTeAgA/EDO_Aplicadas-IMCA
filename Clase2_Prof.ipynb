{
  "cells": [
    {
      "cell_type": "markdown",
      "metadata": {
        "id": "view-in-github",
        "colab_type": "text"
      },
      "source": [
        "<a href=\"https://colab.research.google.com/github/CeSaRLoPeZArTeAgA/EDO_Aplicadas-IMCA/blob/main/Clase2_Prof.ipynb\" target=\"_parent\"><img src=\"https://colab.research.google.com/assets/colab-badge.svg\" alt=\"Open In Colab\"/></a>"
      ]
    },
    {
      "cell_type": "markdown",
      "id": "3f7fbf75",
      "metadata": {
        "id": "3f7fbf75"
      },
      "source": [
        "# Método de Runge-Kutta 2"
      ]
    },
    {
      "cell_type": "markdown",
      "id": "927c4714",
      "metadata": {
        "id": "927c4714"
      },
      "source": [
        "$$\n",
        "\\begin{array}{rcl}\n",
        "k_1 & = & f(t_i,u_i) \\\\\n",
        "k_2 & = & f(t_i + \\alpha h, u_i + \\beta h k_1 \\\\\n",
        "u_{i+1} & = & u_i + h(a k_1 + b k_2)\n",
        "\\end{array}\n",
        "$$\n",
        "donde:\n",
        "$$\n",
        "a + b = 1, \\quad \\alpha b = \\frac{1}{2}, \\quad \\beta b = \\frac{1}{2}\n",
        "$$\n"
      ]
    },
    {
      "cell_type": "markdown",
      "id": "005190ee",
      "metadata": {
        "id": "005190ee"
      },
      "source": [
        "Considere el PVI:\n",
        "$$\n",
        "\\begin{array}{rcl}\n",
        "y^{\\prime} & = & cos(2t)+sen(3t), \\quad 0 \\leq t \\leq 1 \\\\\n",
        "y(0) & = & 1\n",
        "\\end{array}\n",
        "$$\n",
        "cuya solución exacta es:\n",
        "$$\n",
        "y(t) = \\frac{1}{2}sen(2t) - \\frac{1}{3} cos(3t) + \\frac{4}{3}.\n",
        "$$"
      ]
    },
    {
      "cell_type": "code",
      "execution_count": null,
      "id": "5616f63b",
      "metadata": {
        "id": "5616f63b",
        "outputId": "aaef907a-d090-4eaf-fe99-c2635d9a87c2",
        "colab": {
          "base_uri": "https://localhost:8080/",
          "height": 430
        }
      },
      "outputs": [
        {
          "output_type": "display_data",
          "data": {
            "text/plain": [
              "<Figure size 640x480 with 1 Axes>"
            ],
            "image/png": "[encoded data removed]"
          },
          "metadata": {}
        }
      ],
      "source": [
        "import numpy as np\n",
        "import matplotlib.pyplot as plt\n",
        "\n",
        "# Solución exacta\n",
        "def y(t):\n",
        "    yt = np.sin(2*t)/2 - np.cos(3*t)/3 + 4/3\n",
        "    return yt\n",
        "\n",
        "# Lado derecho\n",
        "def f(t,y):\n",
        "    fty = np.cos(2*t) + np.sin(3*t) + 0*y\n",
        "    return fty\n",
        "\n",
        "def MRK2(t0,tN,y0,b,N):\n",
        "    # Método de Runge-Kutta 2: Método de Euler Modificado\n",
        "    a = 1 - b\n",
        "    alpha = 1/(2*b)\n",
        "    beta = 1/(2*b)\n",
        "    u0 = y0\n",
        "\n",
        "    h = (tN - t0)/N\n",
        "\n",
        "    RK2 = np.zeros((N+1,2))\n",
        "    RK2[0,0] = t0\n",
        "    RK2[0,1] = u0\n",
        "    for i in range(1,N+1):\n",
        "        k1 = f(t0,u0)\n",
        "        k2 = f(t0 + alpha*h,u0 + beta*h*k1)\n",
        "        u1 = u0 + h*(a*k1 + b*k2)\n",
        "\n",
        "        t0 = t0 + h\n",
        "        RK2[i,0] = t0\n",
        "        RK2[i,1] = u1\n",
        "\n",
        "        u0 = u1\n",
        "\n",
        "    return RK2\n",
        "\n",
        "def MRK3(t0,tN,y0,N):\n",
        "    # Método de Runge-Kutta 3: Método de Heun\n",
        "    u0 = y0\n",
        "\n",
        "    h = (tN - t0)/N\n",
        "\n",
        "    RK3 = np.zeros((N+1,2))\n",
        "    RK3[0,0] = t0\n",
        "    RK3[0,1] = u0\n",
        "    for i in range(1,N+1):\n",
        "        k1 = f(t0,u0)\n",
        "        k2 = f(t0 + h/3,u0 + h*k1/3)\n",
        "        k3 = f(t0 + 2*h/3,u0 + 2*h*k2/3)\n",
        "        u1 = u0 + h*(k1 + 3*k3)/4\n",
        "\n",
        "        t0 = t0 + h\n",
        "        RK3[i,0] = t0\n",
        "        RK3[i,1] = u1\n",
        "\n",
        "        u0 = u1\n",
        "\n",
        "    return RK3\n",
        "\n",
        "def MRK4(t0,tN,y0,N):\n",
        "    # Método de Runge-Kutta 4\n",
        "    u0 = y0\n",
        "\n",
        "    h = (tN - t0)/N\n",
        "\n",
        "    RK4 = np.zeros((N+1,2))\n",
        "    RK4[0,0] = t0\n",
        "    RK4[0,1] = u0\n",
        "    for i in range(1,N+1):\n",
        "        k1 = f(t0,u0)\n",
        "        k2 = f(t0 + h/2,u0 + h*k1/2)\n",
        "        k3 = f(t0 + h/2,u0 + h*k2/2)\n",
        "        k4 = f(t0  + h, u0 + h*k3)\n",
        "        u1 = u0 + h*(k1 + 2*k2 + 2*k3 + k4)/6\n",
        "\n",
        "        t0 = t0 + h\n",
        "        RK4[i,0] = t0\n",
        "        RK4[i,1] = u1\n",
        "\n",
        "        u0 = u1\n",
        "\n",
        "    return RK4\n",
        "\n",
        "# Condición inicial\n",
        "t0 = 0\n",
        "tN = 1\n",
        "y0 = 1\n",
        "N = 10\n",
        "\n",
        "MEuMod = MRK2(t0,tN,y0,1/2,N)\n",
        "\n",
        "MPuntoMedio = MRK2(t0,tN,y0,1,N)\n",
        "\n",
        "MHeun = MRK3(t0,tN,y0,N)\n",
        "\n",
        "RK4 = MRK4(t0,tN,y0,N)\n",
        "#Graficamos la solución exacta\n",
        "x = np.linspace(0,1,50)\n",
        "plt.plot(x,y(x))\n",
        "\n",
        "#plt.plot(MEuMod[:,0],MEuMod[:,1],'o')\n",
        "#plt.plot(MPuntoMedio[:,0],MPuntoMedio[:,1],'r*')\n",
        "#plt.plot(MHeun[:,0],MHeun[:,1],'<')\n",
        "plt.plot(RK4[:,0],RK4[:,1],'-.')\n",
        "#np.legend('MEuMod')\n",
        "plt.show()\n"
      ]
    }
  ],
  "metadata": {
    "kernelspec": {
      "display_name": "Python 3 (ipykernel)",
      "language": "python",
      "name": "python3"
    },
    "language_info": {
      "codemirror_mode": {
        "name": "ipython",
        "version": 3
      },
      "file_extension": ".py",
      "mimetype": "text/x-python",
      "name": "python",
      "nbconvert_exporter": "python",
      "pygments_lexer": "ipython3",
      "version": "3.11.4"
    },
    "colab": {
      "provenance": [],
      "include_colab_link": true
    }
  },
  "nbformat": 4,
  "nbformat_minor": 5
}