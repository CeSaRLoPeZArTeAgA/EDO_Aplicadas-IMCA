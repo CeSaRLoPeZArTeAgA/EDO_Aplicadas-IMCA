{
  "cells": [
    {
      "cell_type": "markdown",
      "metadata": {
        "id": "view-in-github",
        "colab_type": "text"
      },
      "source": [
        "<a href=\"https://colab.research.google.com/github/CeSaRLoPeZArTeAgA/EDO_Aplicadas-IMCA/blob/main/RKF_EDO.ipynb\" target=\"_parent\"><img src=\"https://colab.research.google.com/assets/colab-badge.svg\" alt=\"Open In Colab\"/></a>"
      ]
    },
    {
      "cell_type": "markdown",
      "source": [
        "# MAESTRIA DE MODELIZACION MATEMATICA Y COMPUTACIONAL\n",
        "---\n",
        "![IMCA.jpg](data:image/jpeg;base64,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)\n",
        "\n",
        "\n",
        "---\n",
        "\n",
        "\n",
        "# CLASE: Metodo Adaptativo Runge Kutta Fehlbert"
      ],
      "metadata": {
        "id": "4FE3jcj0fE2L"
      }
    },
    {
      "cell_type": "markdown",
      "metadata": {
        "id": "cNu5lgbSn3zg"
      },
      "source": [
        "# Metodo Runge - Kutta - Fehlberg para EDO\n",
        "\n",
        "Sea el problema de valor inicial(PVI):\n",
        "\n",
        "$$   y=f(t,y) $$\n",
        "con\n",
        "$y(a)=\\alpha$  y  $a<t<b$\n",
        "\n",
        "\n",
        "Donde $f$ una funcion Lipschitziana en la variable $y$. El método consiste en lo siguiente iteracion:\n",
        "\n",
        "$$w_{i+1}=w_{i}+\\frac{25}{216}K_{1}+\\frac{1408}{2565}K_{3}+\\frac{2197}{4104}K_{4}-\\frac{1}{5}K_{5} $$\n",
        "\n",
        "Donde:\n",
        "* $K_{1}=hf(t_{i},w_{i})$\n",
        "* $K_{2}=hf(t_{i}+ \\frac{1}{4}h,w_{i}+\\frac{1}{4}K_{1})$\n",
        "* $K_{3}=hf(t_{i}+\\frac{3}{8}h,w_{i}+\\frac{3}{32}K_{1}+\\frac{9}{32}K_{2})$\n",
        "* $K_{4}=hf(t_{i}+\\frac{12}{13}h,w_{i}+\\frac{1932}{2197}K_{1}-\\frac{7200}{2197}K_{2}+\\frac{7296}{2197}K_{3})$\n",
        "* $K_{5}=hf(t_{i}+h,w_{i}+\\frac{439}{216}K_{1}-8K_{2}+\\frac{3680}{513}K_{3}-\\frac{845}{4104}K_{4})$\n",
        "* $K_{6}=hf(t_{i}+\\frac{1}{2}h,w_{i}-\\frac{8}{27}K_{1}+2K_{2}-\\frac{3544}{2565}K_{3}+\\frac{1859}{4104}K_{4}-\\frac{11}{40}K_{5})$\n"
      ]
    },
    {
      "cell_type": "code",
      "execution_count": 33,
      "metadata": {
        "id": "clJ9rCnQnWuz"
      },
      "outputs": [],
      "source": [
        "#RUNGE KUTTA FELBERG - EDO\n",
        "import numpy as np\n",
        "import matplotlib.pyplot as plt\n",
        "import pandas as pd\n",
        "#definicion de la funcion f\n",
        "def f(t,y):\n",
        "  return y-t**2+1\n",
        "#Metodo de RK\n",
        "def RKF(a,b,y0,f):\n",
        "  \"\"\"\n",
        "  Implementacion metodo de RK4\n",
        "  a--Inicio Intervalo\n",
        "  b--Fin de Intervalo\n",
        "  y0--Aproximacion Inicial\n",
        "  f-funcion\n",
        "  N--Pasos\n",
        "  Salida\n",
        "  w--aproximacion final\n",
        "  \"\"\"\n",
        "  Tol=1e-5\n",
        "  hmax=0.25\n",
        "  hmin=0.01\n",
        "  Y,T,K1,K2,K3,K4,K5,K6,H,R,D=[],[],[],[],[],[],[],[],[],[],[]\n",
        "  #paso 1\n",
        "  t=a\n",
        "  w=y0\n",
        "  h=hmax\n",
        "  flag=1\n",
        "  T+=[a]\n",
        "  Y+=[w]\n",
        "  K1+=[0]\n",
        "  K2+=[0]\n",
        "  K3+=[0]\n",
        "  K4+=[0]\n",
        "  K5+=[0]\n",
        "  K6+=[0]\n",
        "  H+=[0]\n",
        "  R+=[0]\n",
        "  D+=[0]\n",
        "  print(f'Tiempo t={t}, solucion aproximada={w},paso={h}\\n')\n",
        "  while (flag==1):\n",
        "    #paso 3\n",
        "    H+=[h]\n",
        "    k1=h*f(t,w)\n",
        "    k2=h*f(t+h/4,w+k1/4)\n",
        "    k3=h*f(t+3*h/8,w+3*k1/32+9*k2/32)\n",
        "    k4=h*f(t+12*h/13,w+1932*k1/2197-7200*k2/2197+7296*k3/2197)\n",
        "    k5=h*f(t+h,w+439*k1/216-8*k2+3680*k3/513-845*k4/4104)\n",
        "    k6=h*f(t+h/2,w-8*k1/27+2*k2-3544*k3/2565+1859*k4/4104-11*k5/40)\n",
        "    #paso 4\n",
        "    r=np.abs((k1/360-128*k3/4275-2197*k4/75240+k5/50+2*k6/55))/h\n",
        "    #paso 5\n",
        "    if r<=Tol:\n",
        "      #paso 6\n",
        "      t=t+h\n",
        "      w=w+25*k1/216+1408*k3/2565+2197*k4/4104-k5/5\n",
        "      #paso 7\n",
        "      print(f'Tiempo t={t}, solucion aproximada={w},paso={h}\\n')\n",
        "    #paso 8\n",
        "    delta=0.84*(Tol/r)**(1/4)\n",
        "    #paso 9\n",
        "    if delta<=0.1:\n",
        "      h=0.1*h\n",
        "    else:\n",
        "      if delta>=4:\n",
        "        h=4*h\n",
        "      else:\n",
        "        h=delta*h\n",
        "    #paso 10\n",
        "    if h>=hmax:\n",
        "      h=hmax\n",
        "    #paso 11\n",
        "    if t>=b:\n",
        "      flag=0\n",
        "    else:\n",
        "      if t+h > b:\n",
        "        h=b-t\n",
        "      else:\n",
        "        if h<hmin:\n",
        "          flag=0\n",
        "          print('valor minimo de h alcanzado\\n')\n",
        "          print('Procedimiento completado sin exito\\n')\n",
        "    Y+=[w]\n",
        "    T+=[t]\n",
        "    K1+=[k1]\n",
        "    K2+=[k2]\n",
        "    K3+=[k3]\n",
        "    K4+=[k4]\n",
        "    K5+=[k5]\n",
        "    K6+=[k6]\n",
        "    R+=[r]\n",
        "    D+=[delta]\n",
        "  #paso 12\n",
        "  print('Proceso Terminado\\n')\n",
        "  return T,Y,K1,K2,K3,K4,K5,K6,H,R,D"
      ]
    },
    {
      "cell_type": "code",
      "source": [
        "# Definicion de la funcion solucion Y\n",
        "def ff(T):\n",
        "  y_real=[]\n",
        "  for t in T:\n",
        "    y_real+=[(t+1)**2-0.5*np.exp(t)]\n",
        "  return y_real"
      ],
      "metadata": {
        "id": "HhPquJQPf51h"
      },
      "execution_count": 34,
      "outputs": []
    },
    {
      "cell_type": "code",
      "execution_count": 36,
      "metadata": {
        "colab": {
          "base_uri": "https://localhost:8080/",
          "height": 1000
        },
        "id": "lL70k9dSwoZN",
        "outputId": "5ebe2606-bc5c-4c40-b07d-9d92b5fb2d22"
      },
      "outputs": [
        {
          "output_type": "stream",
          "name": "stdout",
          "text": [
            "Tiempo t=0, solucion aproximada=0.5,paso=0.25\n",
            "\n",
            "Tiempo t=0.25, solucion aproximada=0.9204886020758213,paso=0.25\n",
            "\n",
            "Tiempo t=0.4865522022847686, solucion aproximada=1.3964910142883942,paso=0.23655220228476856\n",
            "\n",
            "Tiempo t=0.7293331998423019, solucion aproximada=1.9537487871541541,paso=0.24278099755753335\n",
            "\n",
            "Tiempo t=0.9793331998423019, solucion aproximada=2.586426014741981,paso=0.25\n",
            "\n",
            "Tiempo t=1.2293331998423018, solucion aproximada=3.2604605104787123,paso=0.25\n",
            "\n",
            "Tiempo t=1.4793331998423018, solucion aproximada=3.952095537283882,paso=0.25\n",
            "\n",
            "Tiempo t=1.7293331998423018, solucion aproximada=4.630826819537572,paso=0.25\n",
            "\n",
            "Tiempo t=1.9793331998423018, solucion aproximada=5.257486064559507,paso=0.25\n",
            "\n",
            "Tiempo t=2.0, solucion aproximada=5.305489627368784,paso=0.020666800157698173\n",
            "\n",
            "Proceso Terminado\n",
            "\n",
            "          t       w_i        K1        K2        K3        K4        K5  \\\n",
            "0  0.000000  0.500000  0.000000  0.000000  0.000000  0.000000  0.000000   \n",
            "1  0.250000  0.920489  0.375000  0.397461  0.409538  0.458497  0.465845   \n",
            "2  0.486552  1.396491  0.439511  0.457681  0.467355  0.506163  0.511879   \n",
            "3  0.729333  1.953749  0.524348  0.540940  0.549698  0.583956  0.588926   \n",
            "4  0.979333  2.586426  0.605455  0.619528  0.626822  0.653917  0.657705   \n",
            "5  1.229333  3.260461  0.656833  0.666304  0.670974  0.686076  0.687911   \n",
            "6  1.479333  3.952096  0.687300  0.690863  0.692163  0.691866  0.691193   \n",
            "7  1.729333  4.630827  0.690917  0.686894  0.683867  0.663797  0.659904   \n",
            "8  1.979333  5.257486  0.660058  0.646294  0.637711  0.592252  0.584224   \n",
            "9  2.000000  5.305490  0.048355  0.048181  0.048093  0.047703  0.047647   \n",
            "\n",
            "         K6         h             R      Delta  \n",
            "0  0.000000  0.000000  0.000000e+00   0.000000  \n",
            "1  0.420479  0.250000  6.211110e-06   0.946209  \n",
            "2  0.476127  0.236552  4.487106e-06   1.026332  \n",
            "3  0.557540  0.242781  4.272161e-06   1.039004  \n",
            "4  0.633200  0.250000  3.774635e-06   1.071669  \n",
            "5  0.674849  0.250000  2.438091e-06   1.195410  \n",
            "6  0.692824  0.250000  7.219341e-07   1.620522  \n",
            "7  0.680402  0.250000  1.481657e-06   1.353918  \n",
            "8  0.628948  0.250000  4.311125e-06   1.036649  \n",
            "9  0.048005  0.020667  4.049339e-10  10.530118  \n"
          ]
        },
        {
          "output_type": "display_data",
          "data": {
            "text/plain": [
              "<Figure size 640x480 with 1 Axes>"
            ],
            "image/png": "[encoded data removed]"
          },
          "metadata": {}
        }
      ],
      "source": [
        "#RKF\n",
        "tr,yr,K1,K2,K3,K4,K5,K6,H,R,D=RKF(0,2,0.5,f)\n",
        "yv=ff(tr)\n",
        "datos={'t':tr,'w_i':yr1,'K1':K1,'K2':K2,'K3':K3,'K4':K4,'K5':K5,'K6':K6,'h':H,'R':R,'Delta':D}\n",
        "df1=pd.DataFrame(datos)\n",
        "print(df1)\n",
        "\n",
        "plt.plot(tr,yr,'ok')\n",
        "plt.plot(tr,yv,'b')\n",
        "plt.grid(True)\n",
        "plt.xlabel('t')\n",
        "plt.ylabel('y')\n",
        "plt.title('Metodo Adaptativo Runge Kutta Felhberg')\n",
        "plt.legend(['RKF','Function Real'])\n",
        "plt.show()"
      ]
    }
  ],
  "metadata": {
    "colab": {
      "provenance": [],
      "authorship_tag": "ABX9TyMXCjIPm2/9WMkTtINA0+0U",
      "include_colab_link": true
    },
    "kernelspec": {
      "display_name": "Python 3",
      "name": "python3"
    },
    "language_info": {
      "name": "python"
    }
  },
  "nbformat": 4,
  "nbformat_minor": 0
}