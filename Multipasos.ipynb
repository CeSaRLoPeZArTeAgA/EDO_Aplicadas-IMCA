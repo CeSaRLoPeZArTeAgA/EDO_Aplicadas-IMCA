{
  "nbformat": 4,
  "nbformat_minor": 0,
  "metadata": {
    "colab": {
      "provenance": [],
      "authorship_tag": "ABX9TyN8w9dLsF7F047Urd9uH4ii",
      "include_colab_link": true
    },
    "kernelspec": {
      "name": "python3",
      "display_name": "Python 3"
    },
    "language_info": {
      "name": "python"
    }
  },
  "cells": [
    {
      "cell_type": "markdown",
      "metadata": {
        "id": "view-in-github",
        "colab_type": "text"
      },
      "source": [
        "<a href=\"https://colab.research.google.com/github/CeSaRLoPeZArTeAgA/EDO_Aplicadas-IMCA/blob/main/Multipasos.ipynb\" target=\"_parent\"><img src=\"https://colab.research.google.com/assets/colab-badge.svg\" alt=\"Open In Colab\"/></a>"
      ]
    },
    {
      "cell_type": "markdown",
      "source": [
        "# MAESTRIA DE MODELIZACION MATEMATICA Y COMPUTACIONAL\n",
        "---\n",
        "![IMCA.jpg](data:image/jpeg;base64,/9j/4AAQSkZJRgABAQEAYABgAAD/4QBmRXhpZgAATU0AKgAAAAgABgESAAMAAAABAAEAAAMBAAUAAAABAAAAVgMDAAEAAAABAAAAAFEQAAEAAAABAQAAAFERAAQAAAABAAAAAFESAAQAAAABAAAAAAAAAAAAAYagAACxj//bAEMAAgEBAgEBAgICAgICAgIDBQMDAwMDBgQEAwUHBgcHBwYHBwgJCwkICAoIBwcKDQoKCwwMDAwHCQ4PDQwOCwwMDP/bAEMBAgICAwMDBgMDBgwIBwgMDAwMDAwMDAwMDAwMDAwMDAwMDAwMDAwMDAwMDAwMDAwMDAwMDAwMDAwMDAwMDAwMDP/AABEIAEsAqwMBIgACEQEDEQH/xAAfAAABBQEBAQEBAQAAAAAAAAAAAQIDBAUGBwgJCgv/xAC1EAACAQMDAgQDBQUEBAAAAX0BAgMABBEFEiExQQYTUWEHInEUMoGRoQgjQrHBFVLR8CQzYnKCCQoWFxgZGiUmJygpKjQ1Njc4OTpDREVGR0hJSlNUVVZXWFlaY2RlZmdoaWpzdHV2d3h5eoOEhYaHiImKkpOUlZaXmJmaoqOkpaanqKmqsrO0tba3uLm6wsPExcbHyMnK0tPU1dbX2Nna4eLj5OXm5+jp6vHy8/T19vf4+fr/xAAfAQADAQEBAQEBAQEBAAAAAAAAAQIDBAUGBwgJCgv/xAC1EQACAQIEBAMEBwUEBAABAncAAQIDEQQFITEGEkFRB2FxEyIygQgUQpGhscEJIzNS8BVictEKFiQ04SXxFxgZGiYnKCkqNTY3ODk6Q0RFRkdISUpTVFVWV1hZWmNkZWZnaGlqc3R1dnd4eXqCg4SFhoeIiYqSk5SVlpeYmZqio6Slpqeoqaqys7S1tre4ubrCw8TFxsfIycrS09TV1tfY2dri4+Tl5ufo6ery8/T19vf4+fr/2gAMAwEAAhEDEQA/APzDooor6g+PCiiigAoozRQAUUUUAFFGaKACiiigAooooAKKKKACiiigAooooAKKKKACiiigAp9pbTajdJBbQzXFxIcJFEheRz1wqjJJxk4A7UxulfUv/BDslP8Agrp8CCMjOtXvQ+ukX9TUlyxciqceaaj3f+R8valp11o9x5N5a3lnMVD+XcQPC+09DtYA4P60sWmXlxGHis7qRGzhlhZgcccED14r9B/+DnmRm/4KfruZjt8G6XjJ6fvbs1T/AGHLuaH9l3wyqzSKoN1hQxH/AC8y18RxrxhLIcuhj40ufmko2va103vZ9j9E8POA4cTZrUy2dZ01GDldRvezSta6tv3PgVtIvkB3WN8Mdc27/wCFVw+RX6sm8kkUrJLM8TAq67zhlPBH4ivy9+J3hOT4e/EHxFobKzNo+o3NogHWREkYIR/vLtP4ivK4B8Ro8RVK1KpSVJ00pfFzXT36LY9rxL8KnwtToVaVd1VUbj8NrNK66vfX7jPh0y7uIw8VneSI3RkgZgfoQKV9IvlQs1jfKqjJJt3AA9+K/TT4X+GZvhv8N9B8PpJIv9j2EVtIEcgGQKPM/NyxqH4w6hM/wg8VgzTMp0a8yC5wf3D18bHxwnLG/VYYVcrnyp872vZO3L87XPvZfR3jDLnjKmMakoczjyLRqN2r83fS9j8yUOFOf59KdEj3N5DbwpJNcXDiOGGNS0kzk4Cqo5ZiSAAASScV0vwF+CniT9pD4xeF/APhG0W+8TeLb+PTrCJyVjV2yWkkbnbHGgd3YDhEY9sH9ufiV4q/Z6/4NqfgnoOmaH4Vi+JHx18TWhk+2SslrqWqqpKyXU85WX7BZbiUSKFW3FcYkYSy1+8VcRy2jFXb6H82UcNz3lJ2it2fjWv7D/xxOk/bv+FH/Go2ezzBP/wgWr7NmM7s/Z/u45z0xznFeaPm3nkhkVo5rdzHLG42vEwyCrA8qwweDyMV+nlv/wAHW3x3j8RrczeA/hbLpgcFrJYb6N2Xuom89iD/ALWwjJztI4r6r8d/Cj4O/wDByH+xXqHj7wlo1t4J+N/hlTYiSYob3Tb5YlkSxvJVC/arGYYEc5XK5JUK6SxVl9YqQ1qx0NVhadRWoy18z8Gc01nVRyalvtPutG1G5sr+1uLC/sZntrq1nXbLazIxSSNx/eVgVPuDX03/AMEZf2U/+GwP+CjPw78PXdobrw/oNy3ijXcruQWlliVEb5hxLc/Z4eucSk4IBrqqTUYuTOOnTc5qC3Z816n4d1LRIVkvtL1PT42fy1e6s5YFZsFtoLqPmwCcdeDxwaqg5r+j7/goNYaD/wAFZv2N/wBpL4Z+GbVb3xh8E/EJg0yPeJJ59Us7KC8RoxgbPOM11ZDk8rJngkD+bu1nW5t0kT5kkUMpxjIIzWWGxHtVqrM3xWH9k1rdMmoooroOUKKKKACiiigBHOBX1L/wQ9Of+CuXwH/7DV5/6aL+vll+lfU3/BD3/lLl8B/+w1ef+mi/rLEfw5ejNKP8SPr+qPaP+Dnj/lJ+P+xN0v8A9G3dZv7EP/JsHhr63P8A6Uy1pf8ABzx/yk/H/YmaX/6Nu6zv2If+TYfDX1uf/SmWvxbxk/5J6j/18X/pMj+gvAG3+tOI/wCvUv8A0qB1nhXxj/aPxW8ZaCzZbSk0+8jUnOI54GB/8fhb/vr8vn345/Bz+2/2+fCsfkhrPxItvqkoI4Itlbzge2dsCk/74rrY/GI8N/8ABRa6sHkCxeIfD8Fng9C6R+cv4/u2A/3j617Vf+DrPVfGuk69Iv8Ap2j21zawHHRZzEX/APRQH/AjX5HRx0+HMZHFU1pXw2nrKFv/AEtXP27EZdDivAzwdX4sNi3e/aM7/jCVjN+KnjNvCdt4fCtibXfEen6Un+15ku9x/wB+43qX4vkf8Kj8Ve+jXmf+/D15J+074w879pX4N+HY3H7nWItUmXPdpVij/wDQJfzNet/F/j4R+Kv+wNef+iHrxZZW8Istqveq+Z/+DLL8j6BZx9dlm1BfDRXJ8/ZOT/F/gRf8Grvwks/Gf7evijxReQxzSeCvB8psS4yYbi7uIoTIvowhSdM+kzDua+c/+C0vxevfjV/wVI+MeoXkzSRaLrP/AAjljGWLLbW1jGtuETJOA0iyykDjdM5xzX01/wAGpfxJtfDP7cPjrw3PIkM3ijwY1xahmx50lpdxFkA/iby52bHXbGx6Zr5R/wCCvPw4uvhT/wAFP/jhpV3E0LTeKJ9VhGOGhvUS8iI9tk6j6gjqDX9q0/8AeHfsj/Pup/uqX953PnTbXpP7O/7YvxR/ZHi8RL8M/G2seCz4qghg1STTvLElwkTMUwzqxjYeY/zJhsMeelebA16f+yn+xn8Sv23vGOtaB8MfDbeJtY0DSm1i7txdQ222ASxxAK8rKhkZpBtQsCwVyPumu2fLb3tjhp81/c38jzvxF4i1Dxdr99q2rX15qmqancSXd5eXczTXF3M7FnkkdiWZ2YlixOSSSea/Yn/g3x8G6T+xP/wT2+Nn7U3iyAKtxDPFpit8rTWGnISVRvW4vXaLHP8AqI8dTX5Jat8D/GOjfGlfhteaDeaf49bWIfD50ecK88V/LIkUcLBCwYl5EHykg561/RV+1L/wT/8Ah/q//BNzwP8Asw6p8XdN+FuiaTZaZHeXLy2i3GupYlZHytw6ZEl4qTu6871xwCa4sbUXLGPR/kehl9N80qnVfmfml/wbhftr6v4T/wCCkniDRPFWqNdD49W91LfSucCbXUle8jmxnADq17HgckyRDgLXzx/wWR/ZJ/4Yy/4KI/EDw3Z2v2fw3rdyPE3h8BcKLO9zIYlHpDcfaIQOfliQn71ffHwu/wCCCHwU+D3xN8N+LtC/bC0+11zwnqtprOnzF9JYJcW0yzRkjz/mXcgBU8FSQc5ruv8Ag6A/Zo0/42/so+Cfjp4bltNTPgW8+w3l9YyLPDd6TqDRosnmLkOsd0sO05wBcS/3sjKNaCrpw2ehpLDzeG5Z7rVeh+GCmlpqU6vUPJCiiigAooooAa/Svqb/AIIe/wDKXL4D/wDYavP/AE0X9fLZ6VvfCj4reI/gX8SNI8YeD9WutA8TaDK82najbbfOtHaN4mZdwK8xyOvIIwxqKkeaDijSnK01Ls/8j7u/4OeD/wAbPx/2Jul/+jbus79iHn9mDw39bn/0plr43+Pv7Rvjr9qXx6vij4heJtQ8V+IFtY7IX94sYk8mMsUT5FUYBdiOM/MetJ4S/aM8deA/D9vpOj+JNQ0/TbXd5NvEIyke5ixwSpPLEmvz/j3hHE57ldPA4ecYyjJSble1kmuifdH6d4Z8cYPhzOKuY4uEpRlBxtG17txfVrTRnpX7W3ix/AX7bGn65GcNpCaXdn3VMFh9CuQfrX2orpKqtG26N+UI7gjOa/L/AMb+N9W+JGvSanrt9Nqd9LGkLTTAbmRRgD5QOgJ/Ouu0/wDav+JGl2MFvbeLtTjhtI1hiXEZ2IoCqM7ewAHP457/ACnE/hbjMxy/A0KFSMalCHJJu9na1rWV977n23B/jLgcpzPMcTXpTlSxFTnily3W973dtrbN7HoXjfxj/wAJr/wUV0uZX3w6d4gsdMi54UQMFYf9/PMP1avq74v/APJJfFX/AGBbz/0Q9fm7p3ijUdK8VQ65b3k0erQXf25LrIMgn3b9/Ixncc12Op/tU/ETWNMubO68WalPa3cTQzRMse2RGUqynCDqCRxW3EnhjisbWwDwc4xhh4xi7315Xd20/Oxy8KeL2Cy/D5lHHU5yni5zmnG1lzJpJ3fS/S+hN+x1+03rX7Gn7S3gv4n6BD9s1DwhqAuWszJ5a6hbsrRXFsW/h82F5E3HIBYHBxiv2g/4KHf8E7PBP/Bdf4OeF/j98A/Fmhw+MI7A6e329Wht9WhTLCxvSoaS1u4HdgGZWwHKkFSjr+DCLtX2ruPgL+0v8Qv2WvFcuufDnxp4k8F6ncBVuZNKvGhS8VeVE0XMcwBzgOpxk4xk1+vVaEpWnHSSPw2jiIxThUV4s+ktN/4N9/2wNS8Tx6Y/wg+wxSS+UdSufFOjfYYlyR5rGO6ebZxnCxM+CPkHSv0w+Anwk+HP/Btp+wr4i8XeOdcsfFHxS8ZOCIbUeU2uXkcZ+zaVZAjeLWJmZ5J2X/lo7sFAjjX8y7j/AIL+fteXOmNat8YLkKyeXvXw3oyy46Z3i03A+4OffuPl/wCLfxj8XfH7xzN4m8deJtc8YeILiMQvqGrXj3U4jBJESlj8kYJJCJhQSSACc1nKjWqaVWkvLqaRr0KV5Uk2/Pofdv8Awb8/A3Vv22P+CpepfFHxh/xOv+EENx401i6ePMc+sXkki2oOckHzGuJkz0Nr1yBnyz/gvT+0nb/tXf8ABTTx3NC0d1ovw/YeCtNLqCq/YncXRA97x7kZ7hFPTFeL/s4ftzfF79kLStUsfhl471bwba63NHcX6WMUB+1yIu1C5eNj8oJAAIAyeOc15dd3k2pX9xdXEsk9xdSvNLJIdzyOzFmZj3JJJJ7kmto0X7XneyVkYSrL2Ps1ve7KP9jWgOfstr1/55L/AIV+6H/BvV450X9t/wD4Je/Ez9m3xUyzweF0utHaJowWi0nVlnkhdOnMdwLvbg5Ty48bQEr8OsV3n7O/7VHxF/ZK8VX+ufDXxdqng7VtUtPsF3c2OwtPBvD7GDqwxuUHOMj6EijEUfaQ5VuLC1/ZTvLY534m/DjWPgx8TvEngzxBD5GveENWutE1FOwuLaZoZCCOCpZCysOGUgjIINYtdD8Xfi34l+PfxH1Txh4x1afXvE2tukl/qEyIkt2yRrGrMEVVyERVyByFFc9W0b21MZWvpsFFFFUSFFFFAAeRSbaWigBu3NAXinUUAJt5oIpaKAG7SDRtp1FACbcGkwc06igBNtLRRQA3bTgMUUUAB5FN2nNOooAFGBRRRQAUUUUAf//Z)\n",
        "\n",
        "\n",
        "---\n",
        "\n",
        "\n",
        "# CLASE: Metodo Predictor - Corrector con Adams de cuarto Orden"
      ],
      "metadata": {
        "id": "Sc_TQ4wJovWK"
      }
    },
    {
      "cell_type": "markdown",
      "source": [
        "# Metodo Adams de Cuarto orden para EDO\n",
        "\n",
        "Sea el problema de valor inicial(PVI):\n",
        "\n",
        "$$   \\dot{y}=f(t,y) $$\n",
        "con\n",
        "$y(a)=\\alpha$  y  $a<t<b$\n",
        "\n",
        "\n",
        "Donde $f$ una funcion Lipschitziana en la variable $y$.\n",
        "\n",
        "El método consiste primero hallar las aproximaciones $w_{1}$, $w_{2}$, $w_{3}$ con el metodo de Runke Kutta. Asi se tiene la primera parte de la iteracion:\n",
        "\n",
        "$$w_{i}=w_{i-1}+\\frac{1}{6}(K_{1}+2K_{2}+2K_{3}+K_{4}) $$\n",
        "\n",
        "Para $i=1,2,3$\n",
        "\n",
        "Donde:\n",
        "* $K_{1}=hf(t_{i-1},w_{i-1})$\n",
        "* $K_{2}=hf(t_{i-1}+ \\frac{1}{2}h,w_{i-1}+\\frac{1}{2}K_{1})$\n",
        "* $K_{3}=hf(t_{i-1}+\\frac{1}{2}h,w_{i-1}+\\frac{1}{2}K_{2})$\n",
        "* $K_{4}=hf(t_{i-1}+h,w_{i-1}+K_{3})$\n",
        "\n",
        "La segunda parte consiste en hallar los siguientes puntos para $i=4,...,N$, con los puntos $w_{1}$, $w_{2}$, $w_{3}$ calculados anteriormente:\n",
        "\n",
        "Determinamos $t=a+ih$  y calculamos:\n",
        "\n",
        "Predictor:  $w=w_{3}+h(55f(t_{3},w_{3})-59f(t_{2},w_{2})+37f(t_{1},w_{1})-9f(t_{0},w_{0}))/24$\n",
        "\n",
        "\n",
        "Corrector: $w=w_{3}+h(9f(t,w)+19f(t_{3},w_{3})-5f(t_{2},w_{2})+f(t_{1},w_{1}))/24$\n",
        "\n",
        "\n",
        "Asi actualizamos:\n",
        "\n",
        "$t_{j}=t_{j+1}$, $w_{j}=w_{j+1}$ para $j=0,1,2$\n",
        "\n",
        "y $t_{3}=t$, $w_{3}=w$\n"
      ],
      "metadata": {
        "id": "SXhSemv1cZ1A"
      }
    },
    {
      "cell_type": "code",
      "execution_count": 24,
      "metadata": {
        "id": "YndyOv26otlN"
      },
      "outputs": [],
      "source": [
        "#MULTIPASOS ADAMS DE CUARTO ORDEN - EDO\n",
        "import numpy as np\n",
        "import matplotlib.pyplot as plt\n",
        "import pandas as pd\n",
        "#definicion de la funcion f\n",
        "def f(t,y):\n",
        "  return y-t**2+1\n",
        "#Metodo de RK\n",
        "def PC_ADAM4(a,b,y0,f,N):\n",
        "  \"\"\"\n",
        "  Implementacion metodo de PRED-CORRREC ADAM 4ORDEN\n",
        "  a--Inicio Intervalo\n",
        "  b--Fin de Intervalo\n",
        "  y0--Aproximacion Inicial\n",
        "  f-funcion\n",
        "  N--Pasos\n",
        "  Salida\n",
        "  w--aproximacion final\n",
        "  \"\"\"\n",
        "  #paso 1\n",
        "  h=(b-a)/N\n",
        "  t=a\n",
        "  w=y0\n",
        "  print(f'Time t={t:.2f}, Solucion Aprox.={w:.6f},Setp h={h:.2f}')\n",
        "  Y,T,=[],[]\n",
        "  T+=[a]\n",
        "  Y+=[w]\n",
        "  #paso 2\n",
        "  for i in range(1,4):\n",
        "    #paso 3\n",
        "    k1=h*f(t,w)\n",
        "    k2=h*f(t+h/2,w+k1/2)\n",
        "    k3=h*f(t+h/2,w+k2/2)\n",
        "    k4=h*f(t+h,w+k3)\n",
        "    #paso 4\n",
        "    w=w+(k1+2*k2+2*k3+k4)/6\n",
        "    Y+=[w]\n",
        "    t=a+i*h\n",
        "    T+=[t]\n",
        "    #paso 5\n",
        "    print(f'Time t={t:.2f}, Solucion Aprox.={w:.6f},Setp h={h:.2f}')\n",
        "  w0,w1,w2,w3,t0,t1,t2,t3=Y[0],Y[1],Y[2],Y[3],T[0],T[1],T[2],T[3]\n",
        "  #w0=Y[0], w1=Y[1], w2=Y[2], w3=Y[3], t0=T[0], t1=T[1], t2=T[2], t3=T[3]\n",
        "  #paso 6\n",
        "  for i in range(4,N+1):\n",
        "    #paso 7\n",
        "    t=a+i*h\n",
        "    #predictor\n",
        "    w=w3+h*(55*f(t3,w3)-59*f(t2,w2)+37*f(t1,w1)-9*f(t0,w0))/24\n",
        "    #corrector\n",
        "    w=w3+h*(9*f(t,w)+19*f(t3,w3)-5*f(t2,w2)+f(t1,w1))/24\n",
        "    #paso 8\n",
        "    print(f'Time t={t:.2f}, Solucion Aprox.={w:.6f},Setp h={h:.2f}')\n",
        "    Y+=[w]\n",
        "    T+=[t]\n",
        "    #paso 9: actualizando valores para la siguiente iteracion\n",
        "    #w0=w1,w1=w2,w2=w3,t0=t1,t1=t2,t2=t3\n",
        "    w0,w1,w2,t0,t1,t2=w1,w2,w3,t1,t2,t3\n",
        "    #paso 10\n",
        "    w3=w\n",
        "    t3=t\n",
        "  return T,Y"
      ]
    },
    {
      "cell_type": "code",
      "source": [
        "# Definicion de la funcion solucion Y\n",
        "def ff(T):\n",
        "  y_real=[]\n",
        "  for t in T:\n",
        "    y_real+=[(t+1)**2-0.5*np.exp(t)]\n",
        "  return y_real"
      ],
      "metadata": {
        "id": "iah4bnSx8vSQ"
      },
      "execution_count": 2,
      "outputs": []
    },
    {
      "cell_type": "code",
      "source": [
        "#RK-4 para h=0.5\n",
        "tr,yr=PC_ADAM4(0,2,0.5,f,10)\n",
        "#calculo de la solucion real\n",
        "yv=ff(tr)\n",
        "#conversion de la listas a un dataframe\n",
        "datos={'t':tr,'w_i':yr,'y_i':yv}\n",
        "df=pd.DataFrame(datos)\n",
        "print(df)\n",
        "\n",
        "#ploteo de los resultados\n",
        "plt.plot(tr,yr,'ok')\n",
        "plt.plot(tr,yv,'b')\n",
        "plt.grid(True)\n",
        "plt.xlabel('t')\n",
        "plt.ylabel('y')\n",
        "plt.title('Metodo Multipasos')\n",
        "plt.legend(['Adams Ord 4','Function Real'])\n",
        "plt.show()"
      ],
      "metadata": {
        "colab": {
          "base_uri": "https://localhost:8080/",
          "height": 871
        },
        "id": "iseje9Qx8wcv",
        "outputId": "700be634-d66e-4cb9-84df-62feb1f4366b"
      },
      "execution_count": 26,
      "outputs": [
        {
          "output_type": "stream",
          "name": "stdout",
          "text": [
            "Time t=0.00, Solucion Aprox.=0.500000,Setp h=0.20\n",
            "Time t=0.20, Solucion Aprox.=0.829293,Setp h=0.20\n",
            "Time t=0.40, Solucion Aprox.=1.214076,Setp h=0.20\n",
            "Time t=0.60, Solucion Aprox.=1.648922,Setp h=0.20\n",
            "Time t=0.80, Solucion Aprox.=2.127206,Setp h=0.20\n",
            "Time t=1.00, Solucion Aprox.=2.640829,Setp h=0.20\n",
            "Time t=1.20, Solucion Aprox.=3.179903,Setp h=0.20\n",
            "Time t=1.40, Solucion Aprox.=3.732350,Setp h=0.20\n",
            "Time t=1.60, Solucion Aprox.=4.283421,Setp h=0.20\n",
            "Time t=1.80, Solucion Aprox.=4.815096,Setp h=0.20\n",
            "Time t=2.00, Solucion Aprox.=5.305371,Setp h=0.20\n",
            "      t       w_i       y_i\n",
            "0   0.0  0.500000  0.500000\n",
            "1   0.2  0.829293  0.829299\n",
            "2   0.4  1.214076  1.214088\n",
            "3   0.6  1.648922  1.648941\n",
            "4   0.8  2.127206  2.127230\n",
            "5   1.0  2.640829  2.640859\n",
            "6   1.2  3.179903  3.179942\n",
            "7   1.4  3.732350  3.732400\n",
            "8   1.6  4.283421  4.283484\n",
            "9   1.8  4.815096  4.815176\n",
            "10  2.0  5.305371  5.305472\n"
          ]
        },
        {
          "output_type": "display_data",
          "data": {
            "text/plain": [
              "<Figure size 640x480 with 1 Axes>"
            ],
            "image/png": "[encoded data removed]"
          },
          "metadata": {}
        }
      ]
    }
  ]
}